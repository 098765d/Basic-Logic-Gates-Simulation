{
  "nbformat": 4,
  "nbformat_minor": 0,
  "metadata": {
    "colab": {
      "name": "Simple Aritmetic Logic Unit (8-Bit Adder) Simulation.ipynb",
      "provenance": [],
      "collapsed_sections": []
    },
    "kernelspec": {
      "name": "python3",
      "display_name": "Python 3"
    },
    "language_info": {
      "name": "python"
    }
  },
  "cells": [
    {
      "cell_type": "markdown",
      "source": [
        "# Simple Aritmetic Logic Unit (8-Bit Adder) Simulation\n",
        "\n",
        "### Reference\n",
        "- [Boolean Logic & Logic Gates: Crash Course Computer Science #3](https://www.youtube.com/watch?v=gI-qXk7XojA)\n",
        "- [How Computers Calculate - the ALU: Crash Course Computer Science #5](https://www.youtube.com/watch?v=1I5ZMmrOfnA&t=185s)"
      ],
      "metadata": {
        "id": "RjNsl74LpL6k"
      }
    },
    {
      "cell_type": "markdown",
      "source": [
        "# Logic Gates"
      ],
      "metadata": {
        "id": "d8yWLMSCr0Hv"
      }
    },
    {
      "cell_type": "markdown",
      "source": [
        "## AND \n",
        "![And](https://github.com/098765d/Basic-Logic-Gates-Simulation/blob/main/AND.png?raw=true)"
      ],
      "metadata": {
        "id": "c72tpD7zr2EA"
      }
    },
    {
      "cell_type": "code",
      "source": [
        "# AND Gate\n",
        "def AND (a, b):\n",
        "  if a == 1 and b == 1:\n",
        "      return 1\n",
        "  else:\n",
        "      return 0\n",
        "\n",
        "AND(1,0)"
      ],
      "metadata": {
        "colab": {
          "base_uri": "https://localhost:8080/"
        },
        "id": "AdNannyvpUN2",
        "outputId": "a5c2e37e-4635-4bc0-8499-8fe684bef92d"
      },
      "execution_count": 31,
      "outputs": [
        {
          "output_type": "execute_result",
          "data": {
            "text/plain": [
              "0"
            ]
          },
          "metadata": {},
          "execution_count": 31
        }
      ]
    },
    {
      "cell_type": "markdown",
      "source": [
        "## NOT\n",
        "![NOT](https://github.com/098765d/Basic-Logic-Gates-Simulation/blob/main/NOT.png?raw=true)"
      ],
      "metadata": {
        "id": "_aPsURhNtfBh"
      }
    },
    {
      "cell_type": "code",
      "source": [
        "# NOT\n",
        "def NOT(a):\n",
        "  output=1-a\n",
        "  return output\n",
        "\n",
        "NOT(0)"
      ],
      "metadata": {
        "colab": {
          "base_uri": "https://localhost:8080/"
        },
        "id": "1_29ii7htT_m",
        "outputId": "50409edb-7e97-40c7-b800-b982a04e2dd2"
      },
      "execution_count": 32,
      "outputs": [
        {
          "output_type": "execute_result",
          "data": {
            "text/plain": [
              "1"
            ]
          },
          "metadata": {},
          "execution_count": 32
        }
      ]
    },
    {
      "cell_type": "markdown",
      "source": [
        "## OR\n",
        "![OR](https://github.com/098765d/Basic-Logic-Gates-Simulation/blob/main/OR.png?raw=true)"
      ],
      "metadata": {
        "id": "pq83mIpVuCJv"
      }
    },
    {
      "cell_type": "code",
      "source": [
        "# OR\n",
        "def OR(a,b):\n",
        "  output=max(a,b)\n",
        "  return output\n",
        "\n",
        "OR(0,1)"
      ],
      "metadata": {
        "colab": {
          "base_uri": "https://localhost:8080/"
        },
        "id": "fUbY8Q2xtVXC",
        "outputId": "e050a706-6227-4c46-b812-b406f693982d"
      },
      "execution_count": 33,
      "outputs": [
        {
          "output_type": "execute_result",
          "data": {
            "text/plain": [
              "1"
            ]
          },
          "metadata": {},
          "execution_count": 33
        }
      ]
    },
    {
      "cell_type": "markdown",
      "source": [
        "## XOR\n",
        "\n",
        "![XOR](https://github.com/098765d/Basic-Logic-Gates-Simulation/blob/main/XOR.png?raw=true)"
      ],
      "metadata": {
        "id": "y14QWIpHukKe"
      }
    },
    {
      "cell_type": "code",
      "source": [
        "# XOR\n",
        "## Build XOR based on [AND,OR,NOT]\n",
        "def XOR(a,b):\n",
        "  upper_path=NOT(AND(a,b))\n",
        "  lower_path=OR(a,b)\n",
        "  output=AND(upper_path,lower_path)\n",
        "  return output\n",
        "\n",
        "XOR(1,1)"
      ],
      "metadata": {
        "colab": {
          "base_uri": "https://localhost:8080/"
        },
        "id": "_zeTCR9huWmD",
        "outputId": "2fe77dfe-0dab-44fd-9120-99777d8edbea"
      },
      "execution_count": 34,
      "outputs": [
        {
          "output_type": "execute_result",
          "data": {
            "text/plain": [
              "0"
            ]
          },
          "metadata": {},
          "execution_count": 34
        }
      ]
    },
    {
      "cell_type": "markdown",
      "source": [
        "# Adder"
      ],
      "metadata": {
        "id": "8ImMlljWzwLF"
      }
    },
    {
      "cell_type": "markdown",
      "source": [
        "## Half Adder\n",
        "\n",
        "![Half Adder](https://github.com/098765d/Basic-Logic-Gates-Simulation/blob/main/Half%20Adder.png?raw=true)\n",
        "\n",
        "![half adder](https://github.com/098765d/Basic-Logic-Gates-Simulation/blob/main/half_adder.png?raw=true)"
      ],
      "metadata": {
        "id": "GYhvEwEVzyXL"
      }
    },
    {
      "cell_type": "code",
      "source": [
        "# Half Adder\n",
        "## Build Half Adder (Carry; Sum)\n",
        "def Half_adder(a,b):\n",
        "  carry_bit=AND(a,b)\n",
        "  sum_bit=XOR(a,b)\n",
        "  return carry_bit,sum_bit\n",
        "\n",
        "Half_adder(1,1)"
      ],
      "metadata": {
        "colab": {
          "base_uri": "https://localhost:8080/"
        },
        "id": "GzblIdsCwMPh",
        "outputId": "0371969a-1811-47b6-8a95-09dc8afc55f7"
      },
      "execution_count": 35,
      "outputs": [
        {
          "output_type": "execute_result",
          "data": {
            "text/plain": [
              "(1, 0)"
            ]
          },
          "metadata": {},
          "execution_count": 35
        }
      ]
    },
    {
      "cell_type": "markdown",
      "source": [
        "## Full Adder\n",
        "\n",
        "#### Why We need a Full Adder?\n",
        "- beacuse when we move to the higher order bit , we want to add the carry bit information from lower order bit sum (C)\n",
        "\n",
        "![full adder](https://github.com/098765d/Basic-Logic-Gates-Simulation/blob/main/full%20adder.png?raw=true)\n",
        "\n",
        "![full adder](https://github.com/098765d/Basic-Logic-Gates-Simulation/blob/main/full_adder_logic.png?raw=true)"
      ],
      "metadata": {
        "id": "qWO4nwEq2Rzf"
      }
    },
    {
      "cell_type": "code",
      "source": [
        "# Full Adder\n",
        "## Build Full Adder\n",
        "def full_adder(a,b,c):\n",
        "  carry_bit_1,sum_bit_1=Half_adder(a,b)\n",
        "  carry_bit_2,sum_bit_2=Half_adder(c,sum_bit_1)\n",
        "  carry_bit=OR(carry_bit_1,carry_bit_2)\n",
        "  sum_bit=sum_bit_2\n",
        "  return carry_bit,sum_bit\n",
        "\n",
        "full_adder(1,1,1)"
      ],
      "metadata": {
        "colab": {
          "base_uri": "https://localhost:8080/"
        },
        "id": "KQsPHUV51ZqX",
        "outputId": "28a99da7-b8ad-42b3-8428-320f1c6875fb"
      },
      "execution_count": 36,
      "outputs": [
        {
          "output_type": "execute_result",
          "data": {
            "text/plain": [
              "(1, 1)"
            ]
          },
          "metadata": {},
          "execution_count": 36
        }
      ]
    },
    {
      "cell_type": "markdown",
      "source": [
        "# An 8-Bit Adder (2^8-1=255)\n"
      ],
      "metadata": {
        "id": "CJt68_F59Ivs"
      }
    },
    {
      "cell_type": "markdown",
      "source": [
        "![8-bit adder](https://github.com/098765d/Basic-Logic-Gates-Simulation/blob/main/8%20bit%20adder.png?raw=true)"
      ],
      "metadata": {
        "id": "PJf8iaW1-dPg"
      }
    },
    {
      "cell_type": "code",
      "source": [
        "# convert the decimal number (<255) into the 8 bit binary\n",
        "def decimalToBinary(n):\n",
        "  binary=bin(n).replace(\"0b\", \"\")\n",
        "  n_zero_add=8-len(binary)\n",
        "  for i in range(n_zero_add):\n",
        "    binary='0'+binary\n",
        "  # convert it to list contains 8 elemnets\n",
        "  binary=list(binary)\n",
        "  binary=[int(x) for x in binary]\n",
        "  binary=list(reversed(binary))\n",
        "  return binary\n"
      ],
      "metadata": {
        "id": "bHiE9APA8tO2"
      },
      "execution_count": 139,
      "outputs": []
    },
    {
      "cell_type": "code",
      "source": [
        "# binary to decimal\n",
        "def binaryToDecimal(sum):\n",
        "  value=0\n",
        "  for i in range(len(sum)):\n",
        "    value=value + sum[i]*2**i\n",
        "  return value\n"
      ],
      "metadata": {
        "id": "4aiCQQ-5Mc5n"
      },
      "execution_count": 173,
      "outputs": []
    },
    {
      "cell_type": "code",
      "source": [
        "def eight_bit_adder(A,B):\n",
        "  # convert the decimal to Binary\n",
        "  A_bin=decimalToBinary(A)\n",
        "  B_bin=decimalToBinary(B)\n",
        "  # store the result in lst\n",
        "  sum_lst=[]\n",
        "  max_len=len(A_bin)\n",
        "  # loop over each position (0-7)\n",
        "  for i in range(max_len):\n",
        "    A_n=A_bin[i]\n",
        "    B_n=B_bin[i]\n",
        "    # intial step half adder\n",
        "    if i==0:\n",
        "      carry_bit,sum_bit=Half_adder(A_n,B_n)\n",
        "      sum_lst.append(sum_bit)\n",
        "      C_prev=carry_bit\n",
        "    # the following steps ussing\n",
        "    else:\n",
        "      carry_bit,sum_bit=full_adder(A_n,B_n,C_prev)\n",
        "      # record the sum bit\n",
        "      sum_lst.append(sum_bit)\n",
        "      # update the C_prev\n",
        "      C_prev=carry_bit\n",
        "  # Overflow or Not?\n",
        "  if C_prev>0:\n",
        "    print('Overflow')\n",
        "  else:\n",
        "    sum_value=binaryToDecimal(sum_lst)\n",
        "    print(f'A = {A}, Binary form = ', A_bin)\n",
        "    print(f'B = {B}, Binary form = ', B_bin)\n",
        "    print('* Calculation Result')\n",
        "    print(f'- Sum = {sum_value}')\n",
        "    print(f'- Binary form = {sum_lst}')\n",
        "  return sum_value"
      ],
      "metadata": {
        "id": "qegh5-_qBklU"
      },
      "execution_count": 201,
      "outputs": []
    },
    {
      "cell_type": "code",
      "source": [
        "eight_bit_adder(90,18)\n"
      ],
      "metadata": {
        "colab": {
          "base_uri": "https://localhost:8080/"
        },
        "id": "79GXzKMFD9Yh",
        "outputId": "21b6a087-6616-46dd-918b-d681740b0741"
      },
      "execution_count": 202,
      "outputs": [
        {
          "output_type": "stream",
          "name": "stdout",
          "text": [
            "A = 90, Binary form =  [0, 1, 0, 1, 1, 0, 1, 0]\n",
            "B = 18, Binary form =  [0, 1, 0, 0, 1, 0, 0, 0]\n",
            "* Calculation Result\n",
            "- Sum = 108\n",
            "- Binary form = [0, 0, 1, 1, 0, 1, 1, 0]\n"
          ]
        },
        {
          "output_type": "execute_result",
          "data": {
            "text/plain": [
              "108"
            ]
          },
          "metadata": {},
          "execution_count": 202
        }
      ]
    },
    {
      "cell_type": "code",
      "source": [
        ""
      ],
      "metadata": {
        "id": "QovTFsnUNyX6"
      },
      "execution_count": null,
      "outputs": []
    }
  ]
}